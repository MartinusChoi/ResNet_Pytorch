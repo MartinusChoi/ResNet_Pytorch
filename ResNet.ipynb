{
 "metadata": {
  "language_info": {
   "codemirror_mode": {
    "name": "ipython",
    "version": 3
   },
   "file_extension": ".py",
   "mimetype": "text/x-python",
   "name": "python",
   "nbconvert_exporter": "python",
   "pygments_lexer": "ipython3",
   "version": "3.8.8"
  },
  "orig_nbformat": 2,
  "kernelspec": {
   "name": "python388jvsc74a57bd033a3111211be4281f3a8c4a9b25563b8d253df502c7e31f5318895c1792a97cb",
   "display_name": "Python 3.8.8 64-bit ('py38': conda)"
  },
  "metadata": {
   "interpreter": {
    "hash": "33a3111211be4281f3a8c4a9b25563b8d253df502c7e31f5318895c1792a97cb"
   }
  }
 },
 "nbformat": 4,
 "nbformat_minor": 2,
 "cells": [
  {
   "cell_type": "code",
   "execution_count": 1,
   "metadata": {},
   "outputs": [],
   "source": [
    "import os\n",
    "\n",
    "import torch\n",
    "import torchvision\n",
    "import torch.nn as nn\n",
    "import torch.functional as F\n",
    "import torchvision.models as models\n",
    "import torchvision.transforms as transforms"
   ]
  },
  {
   "source": [
    "# define Model"
   ],
   "cell_type": "markdown",
   "metadata": {}
  },
  {
   "cell_type": "code",
   "execution_count": 2,
   "metadata": {},
   "outputs": [],
   "source": [
    "resnet_152 = models.resnet152(pretrained=True, progress=True)"
   ]
  },
  {
   "source": [
    "## define device"
   ],
   "cell_type": "markdown",
   "metadata": {}
  },
  {
   "cell_type": "code",
   "execution_count": 3,
   "metadata": {},
   "outputs": [
    {
     "output_type": "stream",
     "name": "stdout",
     "text": [
      "device : 'cuda'\n"
     ]
    }
   ],
   "source": [
    "if torch.cuda.is_available():\n",
    "    device = torch.device('cuda')\n",
    "else:\n",
    "    device = torch.device('cpu')\n",
    "\n",
    "resnet_152.to(device)\n",
    "\n",
    "if device == torch.device('cuda') :\n",
    "    print(\"device : 'cuda'\")\n",
    "else :\n",
    "    print(\"device : 'cpu'\")"
   ]
  },
  {
   "source": [
    "# Transform & DataLoader"
   ],
   "cell_type": "markdown",
   "metadata": {}
  },
  {
   "cell_type": "code",
   "execution_count": 4,
   "metadata": {},
   "outputs": [
    {
     "output_type": "stream",
     "name": "stdout",
     "text": [
      "Files already downloaded and verified\n",
      "Files already downloaded and verified\n"
     ]
    }
   ],
   "source": [
    "transform = transforms.Compose(\n",
    "    [transforms.ToTensor(),\n",
    "\n",
    "    # channel number 만큼 수 전달.\n",
    "    transforms.Normalize((0.5, 0.5, 0.5), (0.5, 0.5, 0.5))]\n",
    ")\n",
    "\n",
    "\n",
    "batch_size = 12\n",
    "\n",
    "\n",
    "data_path = '../ResNet_utils/data'\n",
    "\n",
    "trainset = torchvision.datasets.CIFAR10(\n",
    "    root=data_path, train=True,\n",
    "    download=True, transform=transform\n",
    ")\n",
    "trainloader = torch.utils.data.DataLoader(\n",
    "    trainset, batch_size=batch_size,\n",
    "    shuffle=True, num_workers=2\n",
    ")\n",
    "\n",
    "\n",
    "testset = torchvision.datasets.CIFAR10(\n",
    "    root=data_path, train=False,\n",
    "    download=True, transform=transform\n",
    ")\n",
    "testloader = torch.utils.data.DataLoader(\n",
    "    testset, batch_size=batch_size,\n",
    "    shuffle=True, num_workers=2\n",
    ")"
   ]
  },
  {
   "cell_type": "code",
   "execution_count": 5,
   "metadata": {},
   "outputs": [
    {
     "output_type": "execute_result",
     "data": {
      "text/plain": [
       "50000"
      ]
     },
     "metadata": {},
     "execution_count": 5
    }
   ],
   "source": [
    "len(trainset)"
   ]
  },
  {
   "source": [
    "# define Optimizer"
   ],
   "cell_type": "markdown",
   "metadata": {}
  },
  {
   "cell_type": "code",
   "execution_count": 6,
   "metadata": {},
   "outputs": [],
   "source": [
    "import torch.optim as optim\n",
    "\n",
    "criterion = nn.CrossEntropyLoss()\n",
    "optimizer = optim.Adam(resnet_152.parameters(), lr=0.001)"
   ]
  },
  {
   "source": [
    "# Training (with model CheckPoint)"
   ],
   "cell_type": "markdown",
   "metadata": {}
  },
  {
   "cell_type": "code",
   "execution_count": 12,
   "metadata": {},
   "outputs": [
    {
     "output_type": "stream",
     "name": "stdout",
     "text": [
      "[1, 2000] loss: 1.574141943693161\n",
      "[1, 4000] loss: 1.3726720532774925\n",
      "[2, 2000] loss: 1.2510065106451511\n",
      "[2, 4000] loss: 1.1630401315540075\n",
      "Finished Training\n"
     ]
    }
   ],
   "source": [
    "model_path = '../ResNet_utils/trained_models/checkpoints/'\n",
    "\n",
    "for epoch in range(2):\n",
    "\n",
    "    running_loss = 0.0\n",
    "    for i, data in enumerate(trainloader, 0):\n",
    "        # [inputs, labels]의 목록인 data로부터 입력을 받기\n",
    "        inputs, labels = data[0].to(device), data[1].to(device)\n",
    "\n",
    "        # Gradient parameter to Zeros\n",
    "        optimizer.zero_grad()\n",
    "\n",
    "        # foward/back propagation + optimization\n",
    "        outputs = resnet_152(inputs)\n",
    "        loss = criterion(outputs, labels)\n",
    "        loss.backward()\n",
    "        optimizer.step()\n",
    "\n",
    "        # print info\n",
    "        running_loss += loss.item()\n",
    "        if i % 2000 == 1999:\n",
    "            print(f\"[{epoch + 1}, {i + 1}] loss: {running_loss / 2000}\")\n",
    "\n",
    "            model_path_ = os.path.join(model_path, f\"ResNet152_{epoch}_{i+1}_{running_loss/2000}.pth\")\n",
    "            torch.save({\n",
    "                'epoch' : epoch,\n",
    "                'model_state_dict' : resnet_152.state_dict(),\n",
    "                'optimizer_state_dict' : optimizer.state_dict(),\n",
    "                'loss' : running_loss / 2000\n",
    "            }, model_path_)\n",
    "            \n",
    "            running_loss = 0.0\n",
    "        \n",
    "        torch.cuda.empty_cache()\n",
    "\n",
    "print('Finished Training')"
   ]
  },
  {
   "source": [
    "# Saving & Loading Model for Inference"
   ],
   "cell_type": "markdown",
   "metadata": {}
  },
  {
   "source": [
    "## Save/Load ***state_dict*** (Recommended)"
   ],
   "cell_type": "markdown",
   "metadata": {}
  },
  {
   "source": [
    "### Save:"
   ],
   "cell_type": "markdown",
   "metadata": {}
  },
  {
   "cell_type": "code",
   "execution_count": null,
   "metadata": {},
   "outputs": [],
   "source": [
    "torch.save(model.state_dict, model_path)"
   ]
  },
  {
   "source": [
    "### Load:"
   ],
   "cell_type": "markdown",
   "metadata": {}
  },
  {
   "cell_type": "code",
   "execution_count": null,
   "metadata": {},
   "outputs": [],
   "source": [
    "resnet_152 = models.resnet152()\n",
    "resnet_152.load_state_dict(torch.load(model_path))"
   ]
  },
  {
   "source": [
    "## Save/Load Entire Model"
   ],
   "cell_type": "markdown",
   "metadata": {}
  },
  {
   "source": [
    "### Save:"
   ],
   "cell_type": "markdown",
   "metadata": {}
  },
  {
   "cell_type": "code",
   "execution_count": null,
   "metadata": {},
   "outputs": [],
   "source": [
    "torch.save(resnet_152, model_path) # => to .pt or .pth"
   ]
  },
  {
   "source": [
    "### Load:"
   ],
   "cell_type": "markdown",
   "metadata": {}
  },
  {
   "cell_type": "code",
   "execution_count": null,
   "metadata": {},
   "outputs": [],
   "source": [
    "resnet_152 = torch.load(model_path)"
   ]
  },
  {
   "source": [
    "## Saving & Loading a General Checkpoint for Inference and/or Resuming Training"
   ],
   "cell_type": "markdown",
   "metadata": {}
  },
  {
   "source": [
    "### Save:"
   ],
   "cell_type": "markdown",
   "metadata": {}
  },
  {
   "cell_type": "code",
   "execution_count": null,
   "metadata": {},
   "outputs": [],
   "source": [
    "torch.save({\n",
    "    'epoch' : epoch,\n",
    "    'model_state_dict' : resnet_152.state_dict(),\n",
    "    'optimizer_state_dict' : optimizer.state_dict(),\n",
    "    'loss' : loss\n",
    "}, model_path)"
   ]
  },
  {
   "source": [
    "### Load:"
   ],
   "cell_type": "markdown",
   "metadata": {}
  },
  {
   "cell_type": "code",
   "execution_count": null,
   "metadata": {},
   "outputs": [],
   "source": [
    "resnet_152 = models.resnet152()\n",
    "optimizer = optim.SGD()\n",
    "\n",
    "checkpoint = torch.load(model_path)\n",
    "resnet_152.load_state_dict(checkpoint['model_state_dict'])\n",
    "optimizer.load_state_dict(checkpoint['optimizer_state_dict'])\n",
    "epoch = checkpoint['epoch']\n",
    "loss = checkpoint['loss']"
   ]
  },
  {
   "source": [
    "## Saving Multiple Models in One File"
   ],
   "cell_type": "markdown",
   "metadata": {}
  },
  {
   "source": [
    "### Save:"
   ],
   "cell_type": "markdown",
   "metadata": {}
  },
  {
   "cell_type": "code",
   "execution_count": null,
   "metadata": {},
   "outputs": [],
   "source": [
    "torch.save({\n",
    "    'modelA_state_dict' : resnet_152A.state_dict(),\n",
    "    'modelB_state_dict' : resnet_152B.state_dict(),\n",
    "    'optimizerA_state_dict' : optimizerA.state_dict(),\n",
    "    'optimizerB_state_dict' : optimizerB.state_dict()\n",
    "}, model_path)"
   ]
  },
  {
   "source": [
    "### Load:"
   ],
   "cell_type": "markdown",
   "metadata": {}
  },
  {
   "cell_type": "code",
   "execution_count": null,
   "metadata": {},
   "outputs": [],
   "source": [
    "resnet_152A = models.resnet152()\n",
    "resnet_152B = models.resnet152()\n",
    "optimizerA = optim.SGD()\n",
    "optimizerB = optim.Adagrad()\n",
    "\n",
    "checkpoint = torch.load(model_path)\n",
    "resnet_152A.load_state_dict(chekcpoint['modelA_state_dict'])\n",
    "resnet_152B.load_state_dict(checkpoint['modelB_state_dict'])\n",
    "optimizerA.load_state_dict(checkpoint['optimizerA_state_dict'])\n",
    "optimizerB.load_state_dict(checkpoint['optimizerB_state_dict'])\n",
    "\n"
   ]
  }
 ]
}